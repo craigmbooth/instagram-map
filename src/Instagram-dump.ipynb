{
 "metadata": {
  "name": ""
 },
 "nbformat": 3,
 "nbformat_minor": 0,
 "worksheets": [
  {
   "cells": [
    {
     "cell_type": "code",
     "collapsed": false,
     "input": [
      "\"\"\"Add the times to any entries that are missing them\"\"\"\n",
      "import pymongo\n",
      "import geonames\n",
      "\n",
      "c = pymongo.MongoClient()\n",
      "geo = geonames.GeonamesClient(\"craigmbooth\")\n",
      "db = c.instagram\n",
      "ig_mongo = db.ig\n",
      "\n",
      "for res in ig_mongo.find():\n",
      "    if \"offset\" not in res:\n",
      "        try:\n",
      "            timezone = geo.find_timezone({\"lat\": res[\"latitude\"],\n",
      "                                  \"lng\": res[\"longitude\"]})\n",
      "            res[\"offset\"] = timezone[\"rawOffset\"]\n",
      "            ig_mongo.save(res)\n",
      "        except geonames.GeonamesError:\n",
      "            print \"Failure for lat and lng : \",res[\"latitude\"], res[\"longitude\"]\n",
      "            pass"
     ],
     "language": "python",
     "metadata": {},
     "outputs": [
      {
       "output_type": "stream",
       "stream": "stdout",
       "text": [
        "Failure for lat and lng :  37.607042418 -122.188715396\n",
        "Failure for lat and lng : "
       ]
      },
      {
       "output_type": "stream",
       "stream": "stdout",
       "text": [
        " 42.197278119 -70.456706789\n",
        "Failure for lat and lng : "
       ]
      },
      {
       "output_type": "stream",
       "stream": "stdout",
       "text": [
        " 24.699928933 -81.166106137\n",
        "Failure for lat and lng : "
       ]
      },
      {
       "output_type": "stream",
       "stream": "stdout",
       "text": [
        " 37.803391667 -122.570616667\n",
        "Failure for lat and lng : "
       ]
      },
      {
       "output_type": "stream",
       "stream": "stdout",
       "text": [
        " 28.395711542 -80.550010521\n"
       ]
      }
     ],
     "prompt_number": 3
    },
    {
     "cell_type": "code",
     "collapsed": false,
     "input": [
      "import pymongo\n",
      "\n",
      "c = pymongo.MongoClient()\n",
      "db = c.instagram\n",
      "ig_mongo = db.ig\n",
      "\n",
      "with open(\"ig.html\", \"w\") as f:\n",
      "    for res in ig_mongo.find():\n",
      "        f.write('<img src=\"'+res[\"image_url\"]+'\">\"<br>')\n",
      "    \n",
      "lats = []\n",
      "lons = []\n",
      "times = []\n",
      "full_results = []\n",
      "with open(\"ig.points\", \"w\") as f:\n",
      "    for res in ig_mongo.find():\n",
      "        if (res[\"latitude\"] > -90 and res[\"latitude\"] < 90 and\n",
      "            res[\"longitude\"] > -180 and res[\"longitude\"] < 180):\n",
      "            full_results.append(res)\n",
      "            lats.append(res[\"latitude\"])\n",
      "            lons.append(res[\"longitude\"])\n",
      "            f.write(str(res[\"latitude\"])+\" \"+str(res[\"longitude\"])+\"\\n\")\n",
      "print \"Length of results we're using : \", len(lats)"
     ],
     "language": "python",
     "metadata": {},
     "outputs": [
      {
       "output_type": "stream",
       "stream": "stdout",
       "text": [
        "Length of results we're using :  85113\n"
       ]
      }
     ],
     "prompt_number": 4
    },
    {
     "cell_type": "code",
     "collapsed": false,
     "input": [
      "from mpl_toolkits.basemap import Basemap\n",
      "import matplotlib.pyplot as plt\n",
      "import numpy as np\n",
      "from scipy.ndimage.filters import gaussian_filter\n",
      "import matplotlib.cm as cm\n",
      "import datetime\n",
      "\n",
      "%matplotlib inline  \n",
      "\n",
      "cameras = {\n",
      "    \"Original\": {\n",
      "        \"width\": 12000000,\n",
      "        \"projection\": \"lcc\",\n",
      "        \"resolution\": \"l\",\n",
      "        \"projection_kwargs\": {\n",
      "            \"lat_0\": 50,\n",
      "            \"lon_0\": -107,\n",
      "            \"lat_1\": 45,\n",
      "            \"lat_2\": 55\n",
      "        }\n",
      "    },\n",
      "    \"USA\": {\n",
      "        \"width\": 6500000,\n",
      "        \"resolution\": \"l\",\n",
      "        \"projection\": \"lcc\",\n",
      "        \"projection_kwargs\": {\n",
      "            \"lat_0\": 40,\n",
      "            \"lon_0\": -100,\n",
      "            \"lat_1\": 45,\n",
      "            \"lat_2\": 55\n",
      "        }\n",
      "    },\n",
      "    \"Europe\": {\n",
      "        \"width\": 6500000,\n",
      "        \"resolution\": \"l\",\n",
      "        \"projection\": \"lcc\",\n",
      "        \"projection_kwargs\": {\n",
      "            \"lat_0\": 50,\n",
      "            \"lon_0\": 20,\n",
      "            \"lat_1\": 45,\n",
      "            \"lat_2\": 55\n",
      "        }\n",
      "    },\n",
      "    \"UK\": {\n",
      "        \"resolution\": \"i\",\n",
      "        \"projection\": \"lcc\",\n",
      "        \"projection_kwargs\": {                 \n",
      "            \"lat_0\": 55,\n",
      "            \"lon_0\": 10,\n",
      "            \"lat_1\": 45,\n",
      "            \"lat_2\": 55,\n",
      "            \"width\": 3000000,\n",
      "            \"height\": (9./16.)*3000000\n",
      "        }\n",
      "    },\n",
      "    \"World\": {\n",
      "         \"resolution\": \"l\",\n",
      "         \"projection\": 'mill', \n",
      "         \"projection_kwargs\": {\n",
      "             \"llcrnrlon\": -180,\n",
      "             \"llcrnrlat\": -80,\n",
      "             \"urcrnrlon\": 180,\n",
      "             \"urcrnrlat\": 80\n",
      "         }\n",
      "    }\n",
      "    \n",
      "}\n",
      "\n",
      "def fix_opacity_and_color_map(x):\n",
      "    \"\"\"\"Given a 2d image, x, get rgbt values for each pixel and modify\n",
      "    opacity values\"\"\"\n",
      "    tmp = cm.hot(x)\n",
      "    im_max = np.max(x)\n",
      "    opaque_thresh = 0.1  #Threshold above which data hits full opacity\n",
      "    max_opacity = 0.8   #Maximum opacity to use\n",
      "    for i in xrange(tmp.shape[0]):\n",
      "        for j in xrange(tmp.shape[1]):\n",
      "            if x[i,j]/im_max > opaque_thresh:\n",
      "                tmp[i,j][3] = max_opacity\n",
      "            else:\n",
      "                tmp[i,j][3] = max_opacity * (1./opaque_thresh)*x[i,j]/im_max\n",
      "    return tmp\n",
      "\n",
      "\n",
      "def make_map(camera, lons, lats, weights, gauss_sigma=1, sea_color=\"#111111\",\n",
      "             land_color=\"#888888\", nheatmapbins=500, file_prefix=\"USA\"):\n",
      "    \"\"\"AAAAAAA\"\"\"\n",
      "    \n",
      "    fig = plt.gcf()\n",
      "    plt.clf()\n",
      "    fig.set_size_inches(16,9)\n",
      "\n",
      "    m = Basemap(\n",
      "            projection=camera[\"projection\"],\n",
      "            resolution=camera[\"resolution\"],\n",
      "            **camera[\"projection_kwargs\"])\n",
      "    m.drawcoastlines(color=sea_color)\n",
      "    m.drawcountries(color=sea_color)\n",
      "    m.drawstates(color=sea_color)\n",
      "    m.drawmapboundary(fill_color=sea_color)\n",
      "    m.fillcontinents(color=land_color,lake_color=sea_color)\n",
      "\n",
      "    xpoints,ypoints = m(lons,lats)\n",
      "    im, xedges, yedges = np.histogram2d(xpoints, ypoints,\n",
      "                                    range=((m.llcrnrx, m.urcrnrx),\n",
      "                                           (m.llcrnry, m.urcrnry)),\n",
      "                                    bins=(nheatmapbins, (9./16.)*nheatmapbins),\n",
      "                                    weights=weights)\n",
      "\n",
      "    extent = [xedges[0], xedges[-1], yedges[0], yedges[-1]]\n",
      "\n",
      "    im = np.log(np.rot90(im)+1)\n",
      "    im = gaussian_filter(im, gauss_sigma)\n",
      "\n",
      "    plt.imshow(fix_opacity_and_color_map(im), extent=extent, zorder=10)\n",
      "    \n",
      "    print \"Saving : \", file_prefix+\".png\"\n",
      "    plt.savefig(file_prefix+\".png\")\n",
      "\n",
      "    \n",
      "def calculate_point_weights(points, time, decay_hours=1):\n",
      "    \n",
      "    lat = []\n",
      "    lon = []\n",
      "    weights = []\n",
      "    \n",
      "    for res in points:\n",
      "        image_time = res[\"created_time\"]\n",
      "        \n",
      "        #Time to the nearest minute from the photo being taken to now:\n",
      "        #+ve times mean that the photo was taken earlier than now.\n",
      "        dt_in_minutes = (60*(time.hour - image_time.hour) +\n",
      "                            (time.minute-image_time.minute))\n",
      "        if dt_in_minutes < 0:\n",
      "            dt_in_minutes = dt_in_minutes + 24*60\n",
      "\n",
      "        weight = np.exp(-float(dt_in_minutes)/60/decay_hours)\n",
      "            \n",
      "        if weight > 1e-30:\n",
      "            lat.append(res[\"latitude\"])\n",
      "            lon.append(res[\"longitude\"])\n",
      "            weights.append(weight)\n",
      "    return lat, lon, weights\n",
      "    \n",
      "    \n",
      "timedelta = datetime.timedelta(minutes=10)\n",
      "region = \"World\"\n",
      "data_dir = \"./pics_\"+region\n",
      "\n",
      "target_time = datetime.datetime(2014, 1, 1, 0,0,0)\n",
      "while target_time.day == 1:\n",
      "    target_time += timedelta\n",
      "    print \"Calculating for time \", target_time\n",
      "    lat, lon, weights = calculate_point_weights(full_results, target_time, decay_hours=1)\n",
      "    make_map(cameras[region], lon, lat, weights, gauss_sigma=1,\n",
      "             file_prefix=data_dir+\"/\"+region+target_time.isoformat())\n"
     ],
     "language": "python",
     "metadata": {},
     "outputs": [
      {
       "output_type": "stream",
       "stream": "stdout",
       "text": [
        "Calculating for time  2014-01-01 00:10:00\n",
        "Saving : "
       ]
      },
      {
       "output_type": "stream",
       "stream": "stdout",
       "text": [
        " ./pics_World/World2014-01-01T00:10:00.png\n",
        "Calculating for time "
       ]
      },
      {
       "output_type": "stream",
       "stream": "stdout",
       "text": [
        " 2014-01-01 00:20:00\n",
        "Saving : "
       ]
      },
      {
       "output_type": "stream",
       "stream": "stdout",
       "text": [
        " ./pics_World/World2014-01-01T00:20:00.png\n",
        "Calculating for time "
       ]
      },
      {
       "output_type": "stream",
       "stream": "stdout",
       "text": [
        " 2014-01-01 00:30:00\n",
        "Saving : "
       ]
      },
      {
       "output_type": "stream",
       "stream": "stdout",
       "text": [
        " ./pics_World/World2014-01-01T00:30:00.png\n",
        "Calculating for time "
       ]
      },
      {
       "output_type": "stream",
       "stream": "stdout",
       "text": [
        " 2014-01-01 00:40:00\n",
        "Saving : "
       ]
      },
      {
       "output_type": "stream",
       "stream": "stdout",
       "text": [
        " ./pics_World/World2014-01-01T00:40:00.png\n",
        "Calculating for time "
       ]
      },
      {
       "output_type": "stream",
       "stream": "stdout",
       "text": [
        " 2014-01-01 00:50:00\n",
        "Saving : "
       ]
      },
      {
       "output_type": "stream",
       "stream": "stdout",
       "text": [
        " ./pics_World/World2014-01-01T00:50:00.png\n",
        "Calculating for time "
       ]
      },
      {
       "output_type": "stream",
       "stream": "stdout",
       "text": [
        " 2014-01-01 01:00:00\n",
        "Saving : "
       ]
      },
      {
       "output_type": "stream",
       "stream": "stdout",
       "text": [
        " ./pics_World/World2014-01-01T01:00:00.png\n",
        "Calculating for time "
       ]
      },
      {
       "output_type": "stream",
       "stream": "stdout",
       "text": [
        " 2014-01-01 01:10:00\n",
        "Saving : "
       ]
      },
      {
       "output_type": "stream",
       "stream": "stdout",
       "text": [
        " ./pics_World/World2014-01-01T01:10:00.png\n",
        "Calculating for time "
       ]
      },
      {
       "output_type": "stream",
       "stream": "stdout",
       "text": [
        " 2014-01-01 01:20:00\n",
        "Saving : "
       ]
      },
      {
       "output_type": "stream",
       "stream": "stdout",
       "text": [
        " ./pics_World/World2014-01-01T01:20:00.png\n",
        "Calculating for time "
       ]
      },
      {
       "output_type": "stream",
       "stream": "stdout",
       "text": [
        " 2014-01-01 01:30:00\n",
        "Saving : "
       ]
      },
      {
       "output_type": "stream",
       "stream": "stdout",
       "text": [
        " ./pics_World/World2014-01-01T01:30:00.png\n",
        "Calculating for time "
       ]
      },
      {
       "output_type": "stream",
       "stream": "stdout",
       "text": [
        " 2014-01-01 01:40:00\n",
        "Saving : "
       ]
      },
      {
       "output_type": "stream",
       "stream": "stdout",
       "text": [
        " ./pics_World/World2014-01-01T01:40:00.png\n",
        "Calculating for time "
       ]
      },
      {
       "output_type": "stream",
       "stream": "stdout",
       "text": [
        " 2014-01-01 01:50:00\n",
        "Saving : "
       ]
      },
      {
       "output_type": "stream",
       "stream": "stdout",
       "text": [
        " ./pics_World/World2014-01-01T01:50:00.png\n",
        "Calculating for time "
       ]
      },
      {
       "output_type": "stream",
       "stream": "stdout",
       "text": [
        " 2014-01-01 02:00:00\n",
        "Saving : "
       ]
      },
      {
       "output_type": "stream",
       "stream": "stdout",
       "text": [
        " ./pics_World/World2014-01-01T02:00:00.png\n",
        "Calculating for time "
       ]
      },
      {
       "output_type": "stream",
       "stream": "stdout",
       "text": [
        " 2014-01-01 02:10:00\n",
        "Saving : "
       ]
      },
      {
       "output_type": "stream",
       "stream": "stdout",
       "text": [
        " ./pics_World/World2014-01-01T02:10:00.png\n",
        "Calculating for time "
       ]
      },
      {
       "output_type": "stream",
       "stream": "stdout",
       "text": [
        " 2014-01-01 02:20:00\n",
        "Saving : "
       ]
      },
      {
       "output_type": "stream",
       "stream": "stdout",
       "text": [
        " ./pics_World/World2014-01-01T02:20:00.png\n",
        "Calculating for time "
       ]
      },
      {
       "output_type": "stream",
       "stream": "stdout",
       "text": [
        " 2014-01-01 02:30:00\n",
        "Saving : "
       ]
      },
      {
       "output_type": "stream",
       "stream": "stdout",
       "text": [
        " ./pics_World/World2014-01-01T02:30:00.png\n",
        "Calculating for time "
       ]
      },
      {
       "output_type": "stream",
       "stream": "stdout",
       "text": [
        " 2014-01-01 02:40:00\n",
        "Saving : "
       ]
      },
      {
       "output_type": "stream",
       "stream": "stdout",
       "text": [
        " ./pics_World/World2014-01-01T02:40:00.png\n",
        "Calculating for time "
       ]
      },
      {
       "output_type": "stream",
       "stream": "stdout",
       "text": [
        " 2014-01-01 02:50:00\n",
        "Saving : "
       ]
      },
      {
       "output_type": "stream",
       "stream": "stdout",
       "text": [
        " ./pics_World/World2014-01-01T02:50:00.png\n",
        "Calculating for time "
       ]
      },
      {
       "output_type": "stream",
       "stream": "stdout",
       "text": [
        " 2014-01-01 03:00:00\n",
        "Saving : "
       ]
      },
      {
       "output_type": "stream",
       "stream": "stdout",
       "text": [
        " ./pics_World/World2014-01-01T03:00:00.png\n",
        "Calculating for time "
       ]
      },
      {
       "output_type": "stream",
       "stream": "stdout",
       "text": [
        " 2014-01-01 03:10:00\n",
        "Saving : "
       ]
      },
      {
       "output_type": "stream",
       "stream": "stdout",
       "text": [
        " ./pics_World/World2014-01-01T03:10:00.png\n",
        "Calculating for time "
       ]
      },
      {
       "output_type": "stream",
       "stream": "stdout",
       "text": [
        " 2014-01-01 03:20:00\n",
        "Saving : "
       ]
      },
      {
       "output_type": "stream",
       "stream": "stdout",
       "text": [
        " ./pics_World/World2014-01-01T03:20:00.png\n",
        "Calculating for time "
       ]
      },
      {
       "output_type": "stream",
       "stream": "stdout",
       "text": [
        " 2014-01-01 03:30:00\n",
        "Saving : "
       ]
      },
      {
       "output_type": "stream",
       "stream": "stdout",
       "text": [
        " ./pics_World/World2014-01-01T03:30:00.png\n",
        "Calculating for time "
       ]
      },
      {
       "output_type": "stream",
       "stream": "stdout",
       "text": [
        " 2014-01-01 03:40:00\n",
        "Saving : "
       ]
      },
      {
       "output_type": "stream",
       "stream": "stdout",
       "text": [
        " ./pics_World/World2014-01-01T03:40:00.png\n",
        "Calculating for time "
       ]
      },
      {
       "output_type": "stream",
       "stream": "stdout",
       "text": [
        " 2014-01-01 03:50:00\n",
        "Saving : "
       ]
      },
      {
       "output_type": "stream",
       "stream": "stdout",
       "text": [
        " ./pics_World/World2014-01-01T03:50:00.png\n",
        "Calculating for time "
       ]
      },
      {
       "output_type": "stream",
       "stream": "stdout",
       "text": [
        " 2014-01-01 04:00:00\n",
        "Saving : "
       ]
      },
      {
       "output_type": "stream",
       "stream": "stdout",
       "text": [
        " ./pics_World/World2014-01-01T04:00:00.png\n",
        "Calculating for time "
       ]
      },
      {
       "output_type": "stream",
       "stream": "stdout",
       "text": [
        " 2014-01-01 04:10:00\n",
        "Saving : "
       ]
      },
      {
       "output_type": "stream",
       "stream": "stdout",
       "text": [
        " ./pics_World/World2014-01-01T04:10:00.png\n",
        "Calculating for time "
       ]
      },
      {
       "output_type": "stream",
       "stream": "stdout",
       "text": [
        " 2014-01-01 04:20:00\n",
        "Saving : "
       ]
      },
      {
       "output_type": "stream",
       "stream": "stdout",
       "text": [
        " ./pics_World/World2014-01-01T04:20:00.png\n",
        "Calculating for time "
       ]
      },
      {
       "output_type": "stream",
       "stream": "stdout",
       "text": [
        " 2014-01-01 04:30:00\n",
        "Saving : "
       ]
      },
      {
       "output_type": "stream",
       "stream": "stdout",
       "text": [
        " ./pics_World/World2014-01-01T04:30:00.png\n",
        "Calculating for time "
       ]
      },
      {
       "output_type": "stream",
       "stream": "stdout",
       "text": [
        " 2014-01-01 04:40:00\n",
        "Saving : "
       ]
      },
      {
       "output_type": "stream",
       "stream": "stdout",
       "text": [
        " ./pics_World/World2014-01-01T04:40:00.png\n",
        "Calculating for time "
       ]
      },
      {
       "output_type": "stream",
       "stream": "stdout",
       "text": [
        " 2014-01-01 04:50:00\n",
        "Saving : "
       ]
      },
      {
       "output_type": "stream",
       "stream": "stdout",
       "text": [
        " ./pics_World/World2014-01-01T04:50:00.png\n",
        "Calculating for time "
       ]
      },
      {
       "output_type": "stream",
       "stream": "stdout",
       "text": [
        " 2014-01-01 05:00:00\n",
        "Saving : "
       ]
      },
      {
       "output_type": "stream",
       "stream": "stdout",
       "text": [
        " ./pics_World/World2014-01-01T05:00:00.png\n",
        "Calculating for time "
       ]
      },
      {
       "output_type": "stream",
       "stream": "stdout",
       "text": [
        " 2014-01-01 05:10:00\n",
        "Saving : "
       ]
      },
      {
       "output_type": "stream",
       "stream": "stdout",
       "text": [
        " ./pics_World/World2014-01-01T05:10:00.png\n",
        "Calculating for time "
       ]
      },
      {
       "output_type": "stream",
       "stream": "stdout",
       "text": [
        " 2014-01-01 05:20:00\n",
        "Saving : "
       ]
      },
      {
       "output_type": "stream",
       "stream": "stdout",
       "text": [
        " ./pics_World/World2014-01-01T05:20:00.png\n",
        "Calculating for time "
       ]
      },
      {
       "output_type": "stream",
       "stream": "stdout",
       "text": [
        " 2014-01-01 05:30:00\n",
        "Saving : "
       ]
      },
      {
       "output_type": "stream",
       "stream": "stdout",
       "text": [
        " ./pics_World/World2014-01-01T05:30:00.png\n",
        "Calculating for time "
       ]
      },
      {
       "output_type": "stream",
       "stream": "stdout",
       "text": [
        " 2014-01-01 05:40:00\n",
        "Saving : "
       ]
      },
      {
       "output_type": "stream",
       "stream": "stdout",
       "text": [
        " ./pics_World/World2014-01-01T05:40:00.png\n",
        "Calculating for time "
       ]
      },
      {
       "output_type": "stream",
       "stream": "stdout",
       "text": [
        " 2014-01-01 05:50:00\n",
        "Saving : "
       ]
      },
      {
       "output_type": "stream",
       "stream": "stdout",
       "text": [
        " ./pics_World/World2014-01-01T05:50:00.png\n",
        "Calculating for time "
       ]
      },
      {
       "output_type": "stream",
       "stream": "stdout",
       "text": [
        " 2014-01-01 06:00:00\n",
        "Saving : "
       ]
      },
      {
       "output_type": "stream",
       "stream": "stdout",
       "text": [
        " ./pics_World/World2014-01-01T06:00:00.png\n",
        "Calculating for time "
       ]
      },
      {
       "output_type": "stream",
       "stream": "stdout",
       "text": [
        " 2014-01-01 06:10:00\n",
        "Saving : "
       ]
      },
      {
       "output_type": "stream",
       "stream": "stdout",
       "text": [
        " ./pics_World/World2014-01-01T06:10:00.png\n",
        "Calculating for time "
       ]
      },
      {
       "output_type": "stream",
       "stream": "stdout",
       "text": [
        " 2014-01-01 06:20:00\n",
        "Saving : "
       ]
      },
      {
       "output_type": "stream",
       "stream": "stdout",
       "text": [
        " ./pics_World/World2014-01-01T06:20:00.png\n",
        "Calculating for time "
       ]
      },
      {
       "output_type": "stream",
       "stream": "stdout",
       "text": [
        " 2014-01-01 06:30:00\n",
        "Saving : "
       ]
      },
      {
       "output_type": "stream",
       "stream": "stdout",
       "text": [
        " ./pics_World/World2014-01-01T06:30:00.png\n",
        "Calculating for time "
       ]
      },
      {
       "output_type": "stream",
       "stream": "stdout",
       "text": [
        " 2014-01-01 06:40:00\n",
        "Saving : "
       ]
      },
      {
       "output_type": "stream",
       "stream": "stdout",
       "text": [
        " ./pics_World/World2014-01-01T06:40:00.png\n",
        "Calculating for time "
       ]
      },
      {
       "output_type": "stream",
       "stream": "stdout",
       "text": [
        " 2014-01-01 06:50:00\n",
        "Saving : "
       ]
      },
      {
       "output_type": "stream",
       "stream": "stdout",
       "text": [
        " ./pics_World/World2014-01-01T06:50:00.png\n",
        "Calculating for time "
       ]
      },
      {
       "output_type": "stream",
       "stream": "stdout",
       "text": [
        " 2014-01-01 07:00:00\n",
        "Saving : "
       ]
      },
      {
       "output_type": "stream",
       "stream": "stdout",
       "text": [
        " ./pics_World/World2014-01-01T07:00:00.png\n",
        "Calculating for time "
       ]
      },
      {
       "output_type": "stream",
       "stream": "stdout",
       "text": [
        " 2014-01-01 07:10:00\n",
        "Saving : "
       ]
      },
      {
       "output_type": "stream",
       "stream": "stdout",
       "text": [
        " ./pics_World/World2014-01-01T07:10:00.png\n",
        "Calculating for time "
       ]
      },
      {
       "output_type": "stream",
       "stream": "stdout",
       "text": [
        " 2014-01-01 07:20:00\n",
        "Saving : "
       ]
      },
      {
       "output_type": "stream",
       "stream": "stdout",
       "text": [
        " ./pics_World/World2014-01-01T07:20:00.png\n",
        "Calculating for time "
       ]
      },
      {
       "output_type": "stream",
       "stream": "stdout",
       "text": [
        " 2014-01-01 07:30:00\n",
        "Saving : "
       ]
      },
      {
       "output_type": "stream",
       "stream": "stdout",
       "text": [
        " ./pics_World/World2014-01-01T07:30:00.png\n",
        "Calculating for time "
       ]
      },
      {
       "output_type": "stream",
       "stream": "stdout",
       "text": [
        " 2014-01-01 07:40:00\n",
        "Saving : "
       ]
      },
      {
       "output_type": "stream",
       "stream": "stdout",
       "text": [
        " ./pics_World/World2014-01-01T07:40:00.png\n",
        "Calculating for time "
       ]
      },
      {
       "output_type": "stream",
       "stream": "stdout",
       "text": [
        " 2014-01-01 07:50:00\n",
        "Saving : "
       ]
      },
      {
       "output_type": "stream",
       "stream": "stdout",
       "text": [
        " ./pics_World/World2014-01-01T07:50:00.png\n",
        "Calculating for time "
       ]
      },
      {
       "output_type": "stream",
       "stream": "stdout",
       "text": [
        " 2014-01-01 08:00:00\n",
        "Saving : "
       ]
      },
      {
       "output_type": "stream",
       "stream": "stdout",
       "text": [
        " ./pics_World/World2014-01-01T08:00:00.png\n",
        "Calculating for time "
       ]
      },
      {
       "output_type": "stream",
       "stream": "stdout",
       "text": [
        " 2014-01-01 08:10:00\n",
        "Saving : "
       ]
      },
      {
       "output_type": "stream",
       "stream": "stdout",
       "text": [
        " ./pics_World/World2014-01-01T08:10:00.png\n",
        "Calculating for time "
       ]
      },
      {
       "output_type": "stream",
       "stream": "stdout",
       "text": [
        " 2014-01-01 08:20:00\n",
        "Saving : "
       ]
      },
      {
       "output_type": "stream",
       "stream": "stdout",
       "text": [
        " ./pics_World/World2014-01-01T08:20:00.png\n",
        "Calculating for time "
       ]
      },
      {
       "output_type": "stream",
       "stream": "stdout",
       "text": [
        " 2014-01-01 08:30:00\n",
        "Saving : "
       ]
      },
      {
       "output_type": "stream",
       "stream": "stdout",
       "text": [
        " ./pics_World/World2014-01-01T08:30:00.png\n",
        "Calculating for time "
       ]
      },
      {
       "output_type": "stream",
       "stream": "stdout",
       "text": [
        " 2014-01-01 08:40:00\n",
        "Saving : "
       ]
      },
      {
       "output_type": "stream",
       "stream": "stdout",
       "text": [
        " ./pics_World/World2014-01-01T08:40:00.png\n",
        "Calculating for time "
       ]
      },
      {
       "output_type": "stream",
       "stream": "stdout",
       "text": [
        " 2014-01-01 08:50:00\n",
        "Saving : "
       ]
      },
      {
       "output_type": "stream",
       "stream": "stdout",
       "text": [
        " ./pics_World/World2014-01-01T08:50:00.png\n",
        "Calculating for time "
       ]
      },
      {
       "output_type": "stream",
       "stream": "stdout",
       "text": [
        " 2014-01-01 09:00:00\n",
        "Saving : "
       ]
      },
      {
       "output_type": "stream",
       "stream": "stdout",
       "text": [
        " ./pics_World/World2014-01-01T09:00:00.png\n",
        "Calculating for time "
       ]
      },
      {
       "output_type": "stream",
       "stream": "stdout",
       "text": [
        " 2014-01-01 09:10:00\n",
        "Saving : "
       ]
      },
      {
       "output_type": "stream",
       "stream": "stdout",
       "text": [
        " ./pics_World/World2014-01-01T09:10:00.png\n",
        "Calculating for time "
       ]
      },
      {
       "output_type": "stream",
       "stream": "stdout",
       "text": [
        " 2014-01-01 09:20:00\n",
        "Saving : "
       ]
      },
      {
       "output_type": "stream",
       "stream": "stdout",
       "text": [
        " ./pics_World/World2014-01-01T09:20:00.png\n",
        "Calculating for time "
       ]
      },
      {
       "output_type": "stream",
       "stream": "stdout",
       "text": [
        " 2014-01-01 09:30:00\n",
        "Saving : "
       ]
      },
      {
       "output_type": "stream",
       "stream": "stdout",
       "text": [
        " ./pics_World/World2014-01-01T09:30:00.png\n",
        "Calculating for time "
       ]
      },
      {
       "output_type": "stream",
       "stream": "stdout",
       "text": [
        " 2014-01-01 09:40:00\n",
        "Saving : "
       ]
      },
      {
       "output_type": "stream",
       "stream": "stdout",
       "text": [
        " ./pics_World/World2014-01-01T09:40:00.png\n",
        "Calculating for time "
       ]
      },
      {
       "output_type": "stream",
       "stream": "stdout",
       "text": [
        " 2014-01-01 09:50:00\n",
        "Saving : "
       ]
      },
      {
       "output_type": "stream",
       "stream": "stdout",
       "text": [
        " ./pics_World/World2014-01-01T09:50:00.png\n",
        "Calculating for time "
       ]
      },
      {
       "output_type": "stream",
       "stream": "stdout",
       "text": [
        " 2014-01-01 10:00:00\n",
        "Saving : "
       ]
      },
      {
       "output_type": "stream",
       "stream": "stdout",
       "text": [
        " ./pics_World/World2014-01-01T10:00:00.png\n",
        "Calculating for time "
       ]
      },
      {
       "output_type": "stream",
       "stream": "stdout",
       "text": [
        " 2014-01-01 10:10:00\n",
        "Saving : "
       ]
      },
      {
       "output_type": "stream",
       "stream": "stdout",
       "text": [
        " ./pics_World/World2014-01-01T10:10:00.png\n",
        "Calculating for time "
       ]
      },
      {
       "output_type": "stream",
       "stream": "stdout",
       "text": [
        " 2014-01-01 10:20:00\n",
        "Saving : "
       ]
      },
      {
       "output_type": "stream",
       "stream": "stdout",
       "text": [
        " ./pics_World/World2014-01-01T10:20:00.png\n",
        "Calculating for time "
       ]
      },
      {
       "output_type": "stream",
       "stream": "stdout",
       "text": [
        " 2014-01-01 10:30:00\n",
        "Saving : "
       ]
      },
      {
       "output_type": "stream",
       "stream": "stdout",
       "text": [
        " ./pics_World/World2014-01-01T10:30:00.png\n",
        "Calculating for time "
       ]
      },
      {
       "output_type": "stream",
       "stream": "stdout",
       "text": [
        " 2014-01-01 10:40:00\n",
        "Saving : "
       ]
      },
      {
       "output_type": "stream",
       "stream": "stdout",
       "text": [
        " ./pics_World/World2014-01-01T10:40:00.png\n",
        "Calculating for time "
       ]
      },
      {
       "output_type": "stream",
       "stream": "stdout",
       "text": [
        " 2014-01-01 10:50:00\n",
        "Saving : "
       ]
      },
      {
       "output_type": "stream",
       "stream": "stdout",
       "text": [
        " ./pics_World/World2014-01-01T10:50:00.png\n",
        "Calculating for time "
       ]
      },
      {
       "output_type": "stream",
       "stream": "stdout",
       "text": [
        " 2014-01-01 11:00:00\n",
        "Saving : "
       ]
      },
      {
       "output_type": "stream",
       "stream": "stdout",
       "text": [
        " ./pics_World/World2014-01-01T11:00:00.png\n",
        "Calculating for time "
       ]
      },
      {
       "output_type": "stream",
       "stream": "stdout",
       "text": [
        " 2014-01-01 11:10:00\n",
        "Saving : "
       ]
      },
      {
       "output_type": "stream",
       "stream": "stdout",
       "text": [
        " ./pics_World/World2014-01-01T11:10:00.png\n",
        "Calculating for time "
       ]
      },
      {
       "output_type": "stream",
       "stream": "stdout",
       "text": [
        " 2014-01-01 11:20:00\n",
        "Saving : "
       ]
      },
      {
       "output_type": "stream",
       "stream": "stdout",
       "text": [
        " ./pics_World/World2014-01-01T11:20:00.png\n",
        "Calculating for time "
       ]
      },
      {
       "output_type": "stream",
       "stream": "stdout",
       "text": [
        " 2014-01-01 11:30:00\n",
        "Saving : "
       ]
      },
      {
       "output_type": "stream",
       "stream": "stdout",
       "text": [
        " ./pics_World/World2014-01-01T11:30:00.png\n",
        "Calculating for time "
       ]
      },
      {
       "output_type": "stream",
       "stream": "stdout",
       "text": [
        " 2014-01-01 11:40:00\n",
        "Saving : "
       ]
      },
      {
       "output_type": "stream",
       "stream": "stdout",
       "text": [
        " ./pics_World/World2014-01-01T11:40:00.png\n",
        "Calculating for time "
       ]
      },
      {
       "output_type": "stream",
       "stream": "stdout",
       "text": [
        " 2014-01-01 11:50:00\n",
        "Saving : "
       ]
      },
      {
       "output_type": "stream",
       "stream": "stdout",
       "text": [
        " ./pics_World/World2014-01-01T11:50:00.png\n",
        "Calculating for time "
       ]
      },
      {
       "output_type": "stream",
       "stream": "stdout",
       "text": [
        " 2014-01-01 12:00:00\n",
        "Saving : "
       ]
      },
      {
       "output_type": "stream",
       "stream": "stdout",
       "text": [
        " ./pics_World/World2014-01-01T12:00:00.png\n",
        "Calculating for time "
       ]
      },
      {
       "output_type": "stream",
       "stream": "stdout",
       "text": [
        " 2014-01-01 12:10:00\n",
        "Saving : "
       ]
      },
      {
       "output_type": "stream",
       "stream": "stdout",
       "text": [
        " ./pics_World/World2014-01-01T12:10:00.png\n",
        "Calculating for time "
       ]
      },
      {
       "output_type": "stream",
       "stream": "stdout",
       "text": [
        " 2014-01-01 12:20:00\n",
        "Saving : "
       ]
      },
      {
       "output_type": "stream",
       "stream": "stdout",
       "text": [
        " ./pics_World/World2014-01-01T12:20:00.png\n",
        "Calculating for time "
       ]
      },
      {
       "output_type": "stream",
       "stream": "stdout",
       "text": [
        " 2014-01-01 12:30:00\n",
        "Saving : "
       ]
      },
      {
       "output_type": "stream",
       "stream": "stdout",
       "text": [
        " ./pics_World/World2014-01-01T12:30:00.png\n",
        "Calculating for time "
       ]
      },
      {
       "output_type": "stream",
       "stream": "stdout",
       "text": [
        " 2014-01-01 12:40:00\n",
        "Saving : "
       ]
      },
      {
       "output_type": "stream",
       "stream": "stdout",
       "text": [
        " ./pics_World/World2014-01-01T12:40:00.png\n",
        "Calculating for time "
       ]
      },
      {
       "output_type": "stream",
       "stream": "stdout",
       "text": [
        " 2014-01-01 12:50:00\n",
        "Saving : "
       ]
      },
      {
       "output_type": "stream",
       "stream": "stdout",
       "text": [
        " ./pics_World/World2014-01-01T12:50:00.png\n",
        "Calculating for time "
       ]
      },
      {
       "output_type": "stream",
       "stream": "stdout",
       "text": [
        " 2014-01-01 13:00:00\n",
        "Saving : "
       ]
      },
      {
       "output_type": "stream",
       "stream": "stdout",
       "text": [
        " ./pics_World/World2014-01-01T13:00:00.png\n",
        "Calculating for time "
       ]
      },
      {
       "output_type": "stream",
       "stream": "stdout",
       "text": [
        " 2014-01-01 13:10:00\n",
        "Saving : "
       ]
      },
      {
       "output_type": "stream",
       "stream": "stdout",
       "text": [
        " ./pics_World/World2014-01-01T13:10:00.png\n",
        "Calculating for time "
       ]
      },
      {
       "output_type": "stream",
       "stream": "stdout",
       "text": [
        " 2014-01-01 13:20:00\n",
        "Saving : "
       ]
      },
      {
       "output_type": "stream",
       "stream": "stdout",
       "text": [
        " ./pics_World/World2014-01-01T13:20:00.png\n",
        "Calculating for time "
       ]
      },
      {
       "output_type": "stream",
       "stream": "stdout",
       "text": [
        " 2014-01-01 13:30:00\n",
        "Saving : "
       ]
      },
      {
       "output_type": "stream",
       "stream": "stdout",
       "text": [
        " ./pics_World/World2014-01-01T13:30:00.png\n",
        "Calculating for time "
       ]
      },
      {
       "output_type": "stream",
       "stream": "stdout",
       "text": [
        " 2014-01-01 13:40:00\n",
        "Saving : "
       ]
      },
      {
       "output_type": "stream",
       "stream": "stdout",
       "text": [
        " ./pics_World/World2014-01-01T13:40:00.png\n",
        "Calculating for time "
       ]
      },
      {
       "output_type": "stream",
       "stream": "stdout",
       "text": [
        " 2014-01-01 13:50:00\n",
        "Saving : "
       ]
      },
      {
       "output_type": "stream",
       "stream": "stdout",
       "text": [
        " ./pics_World/World2014-01-01T13:50:00.png\n",
        "Calculating for time "
       ]
      },
      {
       "output_type": "stream",
       "stream": "stdout",
       "text": [
        " 2014-01-01 14:00:00\n",
        "Saving : "
       ]
      },
      {
       "output_type": "stream",
       "stream": "stdout",
       "text": [
        " ./pics_World/World2014-01-01T14:00:00.png\n",
        "Calculating for time "
       ]
      },
      {
       "output_type": "stream",
       "stream": "stdout",
       "text": [
        " 2014-01-01 14:10:00\n",
        "Saving : "
       ]
      },
      {
       "output_type": "stream",
       "stream": "stdout",
       "text": [
        " ./pics_World/World2014-01-01T14:10:00.png\n",
        "Calculating for time "
       ]
      },
      {
       "output_type": "stream",
       "stream": "stdout",
       "text": [
        " 2014-01-01 14:20:00\n",
        "Saving : "
       ]
      },
      {
       "output_type": "stream",
       "stream": "stdout",
       "text": [
        " ./pics_World/World2014-01-01T14:20:00.png\n",
        "Calculating for time "
       ]
      },
      {
       "output_type": "stream",
       "stream": "stdout",
       "text": [
        " 2014-01-01 14:30:00\n",
        "Saving : "
       ]
      },
      {
       "output_type": "stream",
       "stream": "stdout",
       "text": [
        " ./pics_World/World2014-01-01T14:30:00.png\n",
        "Calculating for time "
       ]
      },
      {
       "output_type": "stream",
       "stream": "stdout",
       "text": [
        " 2014-01-01 14:40:00\n",
        "Saving : "
       ]
      },
      {
       "output_type": "stream",
       "stream": "stdout",
       "text": [
        " ./pics_World/World2014-01-01T14:40:00.png\n",
        "Calculating for time "
       ]
      },
      {
       "output_type": "stream",
       "stream": "stdout",
       "text": [
        " 2014-01-01 14:50:00\n",
        "Saving : "
       ]
      },
      {
       "output_type": "stream",
       "stream": "stdout",
       "text": [
        " ./pics_World/World2014-01-01T14:50:00.png\n",
        "Calculating for time "
       ]
      },
      {
       "output_type": "stream",
       "stream": "stdout",
       "text": [
        " 2014-01-01 15:00:00\n",
        "Saving : "
       ]
      },
      {
       "output_type": "stream",
       "stream": "stdout",
       "text": [
        " ./pics_World/World2014-01-01T15:00:00.png\n",
        "Calculating for time "
       ]
      },
      {
       "output_type": "stream",
       "stream": "stdout",
       "text": [
        " 2014-01-01 15:10:00\n",
        "Saving : "
       ]
      },
      {
       "output_type": "stream",
       "stream": "stdout",
       "text": [
        " ./pics_World/World2014-01-01T15:10:00.png\n",
        "Calculating for time "
       ]
      },
      {
       "output_type": "stream",
       "stream": "stdout",
       "text": [
        " 2014-01-01 15:20:00\n",
        "Saving : "
       ]
      },
      {
       "output_type": "stream",
       "stream": "stdout",
       "text": [
        " ./pics_World/World2014-01-01T15:20:00.png\n",
        "Calculating for time "
       ]
      },
      {
       "output_type": "stream",
       "stream": "stdout",
       "text": [
        " 2014-01-01 15:30:00\n",
        "Saving : "
       ]
      },
      {
       "output_type": "stream",
       "stream": "stdout",
       "text": [
        " ./pics_World/World2014-01-01T15:30:00.png\n",
        "Calculating for time "
       ]
      },
      {
       "output_type": "stream",
       "stream": "stdout",
       "text": [
        " 2014-01-01 15:40:00\n",
        "Saving : "
       ]
      },
      {
       "output_type": "stream",
       "stream": "stdout",
       "text": [
        " ./pics_World/World2014-01-01T15:40:00.png\n",
        "Calculating for time "
       ]
      },
      {
       "output_type": "stream",
       "stream": "stdout",
       "text": [
        " 2014-01-01 15:50:00\n",
        "Saving : "
       ]
      },
      {
       "output_type": "stream",
       "stream": "stdout",
       "text": [
        " ./pics_World/World2014-01-01T15:50:00.png\n",
        "Calculating for time "
       ]
      },
      {
       "output_type": "stream",
       "stream": "stdout",
       "text": [
        " 2014-01-01 16:00:00\n",
        "Saving : "
       ]
      },
      {
       "output_type": "stream",
       "stream": "stdout",
       "text": [
        " ./pics_World/World2014-01-01T16:00:00.png\n",
        "Calculating for time "
       ]
      },
      {
       "output_type": "stream",
       "stream": "stdout",
       "text": [
        " 2014-01-01 16:10:00\n",
        "Saving : "
       ]
      },
      {
       "output_type": "stream",
       "stream": "stdout",
       "text": [
        " ./pics_World/World2014-01-01T16:10:00.png\n",
        "Calculating for time "
       ]
      },
      {
       "output_type": "stream",
       "stream": "stdout",
       "text": [
        " 2014-01-01 16:20:00\n",
        "Saving : "
       ]
      },
      {
       "output_type": "stream",
       "stream": "stdout",
       "text": [
        " ./pics_World/World2014-01-01T16:20:00.png\n",
        "Calculating for time "
       ]
      },
      {
       "output_type": "stream",
       "stream": "stdout",
       "text": [
        " 2014-01-01 16:30:00\n",
        "Saving : "
       ]
      },
      {
       "output_type": "stream",
       "stream": "stdout",
       "text": [
        " ./pics_World/World2014-01-01T16:30:00.png\n",
        "Calculating for time "
       ]
      },
      {
       "output_type": "stream",
       "stream": "stdout",
       "text": [
        " 2014-01-01 16:40:00\n",
        "Saving : "
       ]
      },
      {
       "output_type": "stream",
       "stream": "stdout",
       "text": [
        " ./pics_World/World2014-01-01T16:40:00.png\n",
        "Calculating for time "
       ]
      },
      {
       "output_type": "stream",
       "stream": "stdout",
       "text": [
        " 2014-01-01 16:50:00\n",
        "Saving : "
       ]
      },
      {
       "output_type": "stream",
       "stream": "stdout",
       "text": [
        " ./pics_World/World2014-01-01T16:50:00.png\n",
        "Calculating for time "
       ]
      },
      {
       "output_type": "stream",
       "stream": "stdout",
       "text": [
        " 2014-01-01 17:00:00\n",
        "Saving : "
       ]
      },
      {
       "output_type": "stream",
       "stream": "stdout",
       "text": [
        " ./pics_World/World2014-01-01T17:00:00.png\n",
        "Calculating for time "
       ]
      },
      {
       "output_type": "stream",
       "stream": "stdout",
       "text": [
        " 2014-01-01 17:10:00\n",
        "Saving : "
       ]
      },
      {
       "output_type": "stream",
       "stream": "stdout",
       "text": [
        " ./pics_World/World2014-01-01T17:10:00.png\n",
        "Calculating for time "
       ]
      },
      {
       "output_type": "stream",
       "stream": "stdout",
       "text": [
        " 2014-01-01 17:20:00\n",
        "Saving : "
       ]
      },
      {
       "output_type": "stream",
       "stream": "stdout",
       "text": [
        " ./pics_World/World2014-01-01T17:20:00.png\n",
        "Calculating for time "
       ]
      },
      {
       "output_type": "stream",
       "stream": "stdout",
       "text": [
        " 2014-01-01 17:30:00\n",
        "Saving : "
       ]
      },
      {
       "output_type": "stream",
       "stream": "stdout",
       "text": [
        " ./pics_World/World2014-01-01T17:30:00.png\n",
        "Calculating for time "
       ]
      },
      {
       "output_type": "stream",
       "stream": "stdout",
       "text": [
        " 2014-01-01 17:40:00\n",
        "Saving : "
       ]
      },
      {
       "output_type": "stream",
       "stream": "stdout",
       "text": [
        " ./pics_World/World2014-01-01T17:40:00.png\n",
        "Calculating for time "
       ]
      },
      {
       "output_type": "stream",
       "stream": "stdout",
       "text": [
        " 2014-01-01 17:50:00\n",
        "Saving : "
       ]
      },
      {
       "output_type": "stream",
       "stream": "stdout",
       "text": [
        " ./pics_World/World2014-01-01T17:50:00.png\n",
        "Calculating for time "
       ]
      },
      {
       "output_type": "stream",
       "stream": "stdout",
       "text": [
        " 2014-01-01 18:00:00\n",
        "Saving : "
       ]
      },
      {
       "output_type": "stream",
       "stream": "stdout",
       "text": [
        " ./pics_World/World2014-01-01T18:00:00.png\n",
        "Calculating for time "
       ]
      },
      {
       "output_type": "stream",
       "stream": "stdout",
       "text": [
        " 2014-01-01 18:10:00\n",
        "Saving : "
       ]
      },
      {
       "output_type": "stream",
       "stream": "stdout",
       "text": [
        " ./pics_World/World2014-01-01T18:10:00.png\n",
        "Calculating for time "
       ]
      },
      {
       "output_type": "stream",
       "stream": "stdout",
       "text": [
        " 2014-01-01 18:20:00\n",
        "Saving : "
       ]
      },
      {
       "output_type": "stream",
       "stream": "stdout",
       "text": [
        " ./pics_World/World2014-01-01T18:20:00.png\n",
        "Calculating for time "
       ]
      },
      {
       "output_type": "stream",
       "stream": "stdout",
       "text": [
        " 2014-01-01 18:30:00\n",
        "Saving : "
       ]
      },
      {
       "output_type": "stream",
       "stream": "stdout",
       "text": [
        " ./pics_World/World2014-01-01T18:30:00.png\n",
        "Calculating for time "
       ]
      },
      {
       "output_type": "stream",
       "stream": "stdout",
       "text": [
        " 2014-01-01 18:40:00\n",
        "Saving : "
       ]
      },
      {
       "output_type": "stream",
       "stream": "stdout",
       "text": [
        " ./pics_World/World2014-01-01T18:40:00.png\n",
        "Calculating for time "
       ]
      },
      {
       "output_type": "stream",
       "stream": "stdout",
       "text": [
        " 2014-01-01 18:50:00\n",
        "Saving : "
       ]
      },
      {
       "output_type": "stream",
       "stream": "stdout",
       "text": [
        " ./pics_World/World2014-01-01T18:50:00.png\n",
        "Calculating for time "
       ]
      },
      {
       "output_type": "stream",
       "stream": "stdout",
       "text": [
        " 2014-01-01 19:00:00\n",
        "Saving : "
       ]
      },
      {
       "output_type": "stream",
       "stream": "stdout",
       "text": [
        " ./pics_World/World2014-01-01T19:00:00.png\n",
        "Calculating for time "
       ]
      },
      {
       "output_type": "stream",
       "stream": "stdout",
       "text": [
        " 2014-01-01 19:10:00\n",
        "Saving : "
       ]
      },
      {
       "output_type": "stream",
       "stream": "stdout",
       "text": [
        " ./pics_World/World2014-01-01T19:10:00.png\n",
        "Calculating for time "
       ]
      },
      {
       "output_type": "stream",
       "stream": "stdout",
       "text": [
        " 2014-01-01 19:20:00\n",
        "Saving : "
       ]
      },
      {
       "output_type": "stream",
       "stream": "stdout",
       "text": [
        " ./pics_World/World2014-01-01T19:20:00.png\n",
        "Calculating for time "
       ]
      },
      {
       "output_type": "stream",
       "stream": "stdout",
       "text": [
        " 2014-01-01 19:30:00\n",
        "Saving : "
       ]
      },
      {
       "output_type": "stream",
       "stream": "stdout",
       "text": [
        " ./pics_World/World2014-01-01T19:30:00.png\n",
        "Calculating for time "
       ]
      },
      {
       "output_type": "stream",
       "stream": "stdout",
       "text": [
        " 2014-01-01 19:40:00\n",
        "Saving : "
       ]
      },
      {
       "output_type": "stream",
       "stream": "stdout",
       "text": [
        " ./pics_World/World2014-01-01T19:40:00.png\n",
        "Calculating for time "
       ]
      },
      {
       "output_type": "stream",
       "stream": "stdout",
       "text": [
        " 2014-01-01 19:50:00\n",
        "Saving : "
       ]
      },
      {
       "output_type": "stream",
       "stream": "stdout",
       "text": [
        " ./pics_World/World2014-01-01T19:50:00.png\n",
        "Calculating for time "
       ]
      },
      {
       "output_type": "stream",
       "stream": "stdout",
       "text": [
        " 2014-01-01 20:00:00\n",
        "Saving : "
       ]
      },
      {
       "output_type": "stream",
       "stream": "stdout",
       "text": [
        " ./pics_World/World2014-01-01T20:00:00.png\n",
        "Calculating for time "
       ]
      },
      {
       "output_type": "stream",
       "stream": "stdout",
       "text": [
        " 2014-01-01 20:10:00\n",
        "Saving : "
       ]
      },
      {
       "output_type": "stream",
       "stream": "stdout",
       "text": [
        " ./pics_World/World2014-01-01T20:10:00.png\n",
        "Calculating for time "
       ]
      },
      {
       "output_type": "stream",
       "stream": "stdout",
       "text": [
        " 2014-01-01 20:20:00\n",
        "Saving : "
       ]
      },
      {
       "output_type": "stream",
       "stream": "stdout",
       "text": [
        " ./pics_World/World2014-01-01T20:20:00.png\n",
        "Calculating for time "
       ]
      },
      {
       "output_type": "stream",
       "stream": "stdout",
       "text": [
        " 2014-01-01 20:30:00\n",
        "Saving : "
       ]
      },
      {
       "output_type": "stream",
       "stream": "stdout",
       "text": [
        " ./pics_World/World2014-01-01T20:30:00.png\n",
        "Calculating for time "
       ]
      },
      {
       "output_type": "stream",
       "stream": "stdout",
       "text": [
        " 2014-01-01 20:40:00\n",
        "Saving : "
       ]
      },
      {
       "output_type": "stream",
       "stream": "stdout",
       "text": [
        " ./pics_World/World2014-01-01T20:40:00.png\n",
        "Calculating for time "
       ]
      },
      {
       "output_type": "stream",
       "stream": "stdout",
       "text": [
        " 2014-01-01 20:50:00\n",
        "Saving : "
       ]
      },
      {
       "output_type": "stream",
       "stream": "stdout",
       "text": [
        " ./pics_World/World2014-01-01T20:50:00.png\n",
        "Calculating for time "
       ]
      },
      {
       "output_type": "stream",
       "stream": "stdout",
       "text": [
        " 2014-01-01 21:00:00\n",
        "Saving : "
       ]
      },
      {
       "output_type": "stream",
       "stream": "stdout",
       "text": [
        " ./pics_World/World2014-01-01T21:00:00.png\n",
        "Calculating for time "
       ]
      },
      {
       "output_type": "stream",
       "stream": "stdout",
       "text": [
        " 2014-01-01 21:10:00\n",
        "Saving : "
       ]
      },
      {
       "output_type": "stream",
       "stream": "stdout",
       "text": [
        " ./pics_World/World2014-01-01T21:10:00.png\n",
        "Calculating for time "
       ]
      },
      {
       "output_type": "stream",
       "stream": "stdout",
       "text": [
        " 2014-01-01 21:20:00\n",
        "Saving : "
       ]
      },
      {
       "output_type": "stream",
       "stream": "stdout",
       "text": [
        " ./pics_World/World2014-01-01T21:20:00.png\n",
        "Calculating for time "
       ]
      },
      {
       "output_type": "stream",
       "stream": "stdout",
       "text": [
        " 2014-01-01 21:30:00\n",
        "Saving : "
       ]
      },
      {
       "output_type": "stream",
       "stream": "stdout",
       "text": [
        " ./pics_World/World2014-01-01T21:30:00.png\n",
        "Calculating for time "
       ]
      },
      {
       "output_type": "stream",
       "stream": "stdout",
       "text": [
        " 2014-01-01 21:40:00\n",
        "Saving : "
       ]
      },
      {
       "output_type": "stream",
       "stream": "stdout",
       "text": [
        " ./pics_World/World2014-01-01T21:40:00.png\n",
        "Calculating for time "
       ]
      },
      {
       "output_type": "stream",
       "stream": "stdout",
       "text": [
        " 2014-01-01 21:50:00\n",
        "Saving : "
       ]
      },
      {
       "output_type": "stream",
       "stream": "stdout",
       "text": [
        " ./pics_World/World2014-01-01T21:50:00.png\n",
        "Calculating for time "
       ]
      },
      {
       "output_type": "stream",
       "stream": "stdout",
       "text": [
        " 2014-01-01 22:00:00\n",
        "Saving : "
       ]
      },
      {
       "output_type": "stream",
       "stream": "stdout",
       "text": [
        " ./pics_World/World2014-01-01T22:00:00.png\n",
        "Calculating for time "
       ]
      },
      {
       "output_type": "stream",
       "stream": "stdout",
       "text": [
        " 2014-01-01 22:10:00\n",
        "Saving : "
       ]
      },
      {
       "output_type": "stream",
       "stream": "stdout",
       "text": [
        " ./pics_World/World2014-01-01T22:10:00.png\n",
        "Calculating for time "
       ]
      },
      {
       "output_type": "stream",
       "stream": "stdout",
       "text": [
        " 2014-01-01 22:20:00\n",
        "Saving : "
       ]
      },
      {
       "output_type": "stream",
       "stream": "stdout",
       "text": [
        " ./pics_World/World2014-01-01T22:20:00.png\n",
        "Calculating for time "
       ]
      },
      {
       "output_type": "stream",
       "stream": "stdout",
       "text": [
        " 2014-01-01 22:30:00\n",
        "Saving : "
       ]
      },
      {
       "output_type": "stream",
       "stream": "stdout",
       "text": [
        " ./pics_World/World2014-01-01T22:30:00.png\n",
        "Calculating for time "
       ]
      },
      {
       "output_type": "stream",
       "stream": "stdout",
       "text": [
        " 2014-01-01 22:40:00\n",
        "Saving : "
       ]
      },
      {
       "output_type": "stream",
       "stream": "stdout",
       "text": [
        " ./pics_World/World2014-01-01T22:40:00.png\n",
        "Calculating for time "
       ]
      },
      {
       "output_type": "stream",
       "stream": "stdout",
       "text": [
        " 2014-01-01 22:50:00\n",
        "Saving : "
       ]
      },
      {
       "output_type": "stream",
       "stream": "stdout",
       "text": [
        " ./pics_World/World2014-01-01T22:50:00.png\n",
        "Calculating for time "
       ]
      },
      {
       "output_type": "stream",
       "stream": "stdout",
       "text": [
        " 2014-01-01 23:00:00\n",
        "Saving : "
       ]
      },
      {
       "output_type": "stream",
       "stream": "stdout",
       "text": [
        " ./pics_World/World2014-01-01T23:00:00.png\n",
        "Calculating for time "
       ]
      },
      {
       "output_type": "stream",
       "stream": "stdout",
       "text": [
        " 2014-01-01 23:10:00\n",
        "Saving : "
       ]
      },
      {
       "output_type": "stream",
       "stream": "stdout",
       "text": [
        " ./pics_World/World2014-01-01T23:10:00.png\n",
        "Calculating for time "
       ]
      },
      {
       "output_type": "stream",
       "stream": "stdout",
       "text": [
        " 2014-01-01 23:20:00\n",
        "Saving : "
       ]
      },
      {
       "output_type": "stream",
       "stream": "stdout",
       "text": [
        " ./pics_World/World2014-01-01T23:20:00.png\n",
        "Calculating for time "
       ]
      },
      {
       "output_type": "stream",
       "stream": "stdout",
       "text": [
        " 2014-01-01 23:30:00\n",
        "Saving : "
       ]
      },
      {
       "output_type": "stream",
       "stream": "stdout",
       "text": [
        " ./pics_World/World2014-01-01T23:30:00.png\n",
        "Calculating for time "
       ]
      },
      {
       "output_type": "stream",
       "stream": "stdout",
       "text": [
        " 2014-01-01 23:40:00\n",
        "Saving : "
       ]
      },
      {
       "output_type": "stream",
       "stream": "stdout",
       "text": [
        " ./pics_World/World2014-01-01T23:40:00.png\n",
        "Calculating for time "
       ]
      },
      {
       "output_type": "stream",
       "stream": "stdout",
       "text": [
        " 2014-01-01 23:50:00\n",
        "Saving : "
       ]
      },
      {
       "output_type": "stream",
       "stream": "stdout",
       "text": [
        " ./pics_World/World2014-01-01T23:50:00.png\n",
        "Calculating for time "
       ]
      },
      {
       "output_type": "stream",
       "stream": "stdout",
       "text": [
        " 2014-01-02 00:00:00\n",
        "Saving : "
       ]
      },
      {
       "output_type": "stream",
       "stream": "stdout",
       "text": [
        " ./pics_World/World2014-01-02T00:00:00.png\n"
       ]
      },
      {
       "metadata": {},
       "output_type": "display_data",
       "png": "[encoded data removed]",
       "text": [
        "<matplotlib.figure.Figure at 0x11e6abe90>"
       ]
      }
     ],
     "prompt_number": 24
    },
    {
     "cell_type": "code",
     "collapsed": false,
     "input": [],
     "language": "python",
     "metadata": {},
     "outputs": [],
     "prompt_number": 24
    }
   ],
   "metadata": {}
  }
 ]
}